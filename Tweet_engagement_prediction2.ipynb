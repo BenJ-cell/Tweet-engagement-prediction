{
  "cells": [
    {
      "cell_type": "markdown",
      "id": "2471fd54-9c14-407b-9cc2-ef13bc1d1ebd",
      "metadata": {
        "id": "2471fd54-9c14-407b-9cc2-ef13bc1d1ebd"
      },
      "source": [
        "## Imports"
      ]
    },
    {
      "cell_type": "code",
      "execution_count": null,
      "id": "2923a30b-3dc4-47f8-92b9-8058ea413545",
      "metadata": {
        "id": "2923a30b-3dc4-47f8-92b9-8058ea413545"
      },
      "outputs": [],
      "source": [
        "import numpy as np\n",
        "import pandas as pd\n",
        "from sklearn.decomposition import PCA\n",
        "import numpy as np\n",
        "import pandas as pd\n",
        "import matplotlib.pyplot as plt\n",
        "import plotly.express as px\n",
        "import xgboost as xgb\n",
        "# from catboost import CatBoostRegressor\n",
        "import sklearn\n",
        "import seaborn as sns\n",
        "from sklearn.model_selection import train_test_split\n",
        "from sklearn.metrics import mean_squared_error, r2_score\n",
        "import warnings\n",
        "from math import log\n",
        "from sklearn.model_selection import GridSearchCV\n",
        "warnings.filterwarnings(\"ignore\")"
      ]
    },
    {
      "cell_type": "markdown",
      "id": "6695702c-4dbb-496d-a743-6f88918df950",
      "metadata": {
        "id": "6695702c-4dbb-496d-a743-6f88918df950"
      },
      "source": [
        "## Processing functions"
      ]
    },
    {
      "cell_type": "code",
      "execution_count": null,
      "id": "fb259e21-8e62-481b-99fd-727736e61781",
      "metadata": {
        "id": "fb259e21-8e62-481b-99fd-727736e61781"
      },
      "outputs": [],
      "source": [
        "def process(df_list, author_df):\n",
        "    avgs = {}\n",
        "    stds = {}\n",
        "    mins = {}\n",
        "    maxs = {}\n",
        "    medians = {}\n",
        "    for feature in author_df.columns:\n",
        "        print(feature)\n",
        "        if isinstance(author_df[feature].iloc[0], (int, float, np.int64, np.float64)) and not np.isnan(author_df[feature].iloc[0]):\n",
        "            author_df['avg ' + feature] = author_df.groupby('author')[feature].transform('mean')\n",
        "            author_df['std ' + feature] = author_df.groupby('author')[feature].transform('std')\n",
        "            author_df['min ' + feature] = author_df.groupby('author')[feature].transform('min')\n",
        "            author_df['max ' + feature] = author_df.groupby('author')[feature].transform('max')\n",
        "            author_df['median ' + feature] = author_df.groupby('author')[feature].transform('median')\n",
        "            avgs[feature] = dict(zip(author_df['author'], author_df['avg ' + feature]))\n",
        "            stds[feature] = dict(zip(author_df['author'], author_df['std ' + feature]))\n",
        "            mins[feature] = dict(zip(author_df['author'], author_df['min ' + feature]))\n",
        "            maxs[feature] = dict(zip(author_df['author'], author_df['max ' + feature]))\n",
        "            medians[feature] = dict(zip(author_df['author'], author_df['median ' + feature]))\n",
        "\n",
        "    url_engagement = author_df[[\"shared_url_domain\", \"engagement\"]]\n",
        "    grouped = url_engagement.groupby(\"shared_url_domain\").agg(engagement=('engagement', 'mean'),)\n",
        "    urls = dict(zip(grouped.index, grouped[\"engagement\"]))\n",
        "    author_df[\"url engagement\"] = author_df[\"shared_url_domain\"].map(urls)\n",
        "\n",
        "    for df in df_list:\n",
        "        for feature, avg_feature in avgs.items():\n",
        "            df[\"avg \" + feature] = df[\"author\"].map(avg_feature)\n",
        "            if feature != \"engagement\":\n",
        "                df[\"dev \" + feature] = np.minimum(df[feature] / df[\"avg \" + feature], 999999)\n",
        "        for feature, std_feature in stds.items():\n",
        "            df[\"std \" + feature] = df[\"author\"].map(std_feature)\n",
        "        for feature, min_feature in mins.items():\n",
        "            df[\"min \" + feature] = df[\"author\"].map(min_feature)\n",
        "        for feature, max_feature in maxs.items():\n",
        "            df[\"max \" + feature] = df[\"author\"].map(max_feature)\n",
        "        for feature, median_feature in medians.items():\n",
        "            df[\"median \" + feature] = df[\"author\"].map(median_feature)\n",
        "        df[\"url engagement\"] = df[\"shared_url_domain\"].map(urls)\n",
        "    return df_list, author_df\n",
        "\n",
        "def pca_process(train_df, test_df):\n",
        "    V = [\"V\" + str(i) for i in range(1, 1025)]\n",
        "\n",
        "    X = train_df[V]\n",
        "    X_test = test_df[V]\n",
        "\n",
        "    pca = PCA(n_components=1024)\n",
        "    X_pca = pca.fit_transform(X)\n",
        "    X_pca_test = pca.transform(X_test)\n",
        "\n",
        "    pca_df = pd.DataFrame(X_pca, columns=[\"PC\" + str(i) for i in range(1, 1025)])\n",
        "    pca_df_test = pd.DataFrame(X_pca_test, columns=[\"PC\" + str(i) for i in range(1, 1025)])\n",
        "\n",
        "    prc_train_df = pd.concat([train_df, pca_df], axis=1)\n",
        "    prc_test_df = pd.concat([test_df, pca_df_test], axis=1)\n",
        "\n",
        "    return prc_train_df, prc_test_df"
      ]
    },
    {
      "cell_type": "markdown",
      "id": "4312210a-fca5-4678-8c6e-4a61a24b4f4b",
      "metadata": {
        "id": "4312210a-fca5-4678-8c6e-4a61a24b4f4b"
      },
      "source": [
        "## Load"
      ]
    },
    {
      "cell_type": "code",
      "execution_count": null,
      "id": "e41ffc89-d3c9-4480-8b60-f843f67ebbff",
      "metadata": {
        "scrolled": true,
        "id": "e41ffc89-d3c9-4480-8b60-f843f67ebbff"
      },
      "outputs": [],
      "source": [
        "author_df = pd.read_csv(\"authorData.csv\")\n",
        "train_df  = pd.read_csv(\"train.csv\")\n",
        "test_df   = pd.read_csv(\"test.csv\")"
      ]
    },
    {
      "cell_type": "markdown",
      "id": "7a5e8211-ff67-45c4-9e60-987e39067a4a",
      "metadata": {
        "id": "7a5e8211-ff67-45c4-9e60-987e39067a4a"
      },
      "source": [
        "## Process"
      ]
    },
    {
      "cell_type": "code",
      "execution_count": null,
      "id": "2d511b55-1ca8-4726-83b8-2d42576fbd05",
      "metadata": {
        "colab": {
          "base_uri": "https://localhost:8080/"
        },
        "id": "2d511b55-1ca8-4726-83b8-2d42576fbd05",
        "outputId": "3fb3e83d-c04b-475d-fc9f-e5ba3bfef822"
      },
      "outputs": [
        {
          "output_type": "stream",
          "name": "stdout",
          "text": [
            "engagement\n",
            "timestamp\n",
            "language\n",
            "feature1\n",
            "feature2\n",
            "followers\n",
            "author\n",
            "word_count\n",
            "shared_url_count\n",
            "shared_url_domain\n",
            "is_reply\n",
            "is_retweet\n",
            "contains_video\n",
            "contains_image\n"
          ]
        }
      ],
      "source": [
        "[prc_train_df, prc_test_df], prc_author_df = process([train_df, test_df], author_df)\n",
        "prc_train_df, prc_test_df = pca_process(prc_train_df, prc_test_df)"
      ]
    },
    {
      "cell_type": "code",
      "source": [
        "author_df = prc_author_df\n",
        "train_df  = prc_train_df\n",
        "test_df   = prc_test_df"
      ],
      "metadata": {
        "id": "idn4dpRfT4jC"
      },
      "id": "idn4dpRfT4jC",
      "execution_count": null,
      "outputs": []
    },
    {
      "cell_type": "code",
      "source": [
        "# author_df = prc_author_df[prc_author_df['engagement']<100000]\n",
        "# train_df  = prc_train_df[prc_train_df['engagement']<100000]\n",
        "# test_df   = prc_test_df"
      ],
      "metadata": {
        "id": "ePpTSP_yZs3J"
      },
      "id": "ePpTSP_yZs3J",
      "execution_count": null,
      "outputs": []
    },
    {
      "cell_type": "code",
      "source": [
        "from datetime import datetime\n",
        "\n",
        "train_df['timestamp'] = (train_df['timestamp']/1000).apply(lambda x: datetime.fromtimestamp(x))\n",
        "test_df['timestamp'] = (test_df['timestamp']/1000).apply(lambda x: datetime.fromtimestamp(x))\n",
        "author_df['timestamp'] = (author_df['timestamp']/1000).apply(lambda x: datetime.fromtimestamp(x))\n",
        "\n",
        "train_df['year'] = train_df['timestamp'].apply(lambda x: datetime.strptime(str(x), '%Y-%m-%d %H:%M:%S.%f').year)\n",
        "train_df['month'] = train_df['timestamp'].apply(lambda x: datetime.strptime(str(x), '%Y-%m-%d %H:%M:%S.%f').month)\n",
        "train_df['day'] = train_df['timestamp'].apply(lambda x: datetime.strptime(str(x), '%Y-%m-%d %H:%M:%S.%f').day)\n",
        "train_df['hour'] = train_df['timestamp'].apply(lambda x: datetime.strptime(str(x), '%Y-%m-%d %H:%M:%S.%f').hour)\n",
        "train_df['minute'] = train_df['timestamp'].apply(lambda x: datetime.strptime(str(x), '%Y-%m-%d %H:%M:%S.%f').minute)\n",
        "train_df['second'] = train_df['timestamp'].apply(lambda x: datetime.strptime(str(x), '%Y-%m-%d %H:%M:%S.%f').second)\n",
        "\n",
        "test_df['year'] = test_df['timestamp'].apply(lambda x: datetime.strptime(str(x), '%Y-%m-%d %H:%M:%S.%f').year)\n",
        "test_df['month'] = test_df['timestamp'].apply(lambda x: datetime.strptime(str(x), '%Y-%m-%d %H:%M:%S.%f').month)\n",
        "test_df['day'] = test_df['timestamp'].apply(lambda x: datetime.strptime(str(x), '%Y-%m-%d %H:%M:%S.%f').day)\n",
        "test_df['hour'] = test_df['timestamp'].apply(lambda x: datetime.strptime(str(x), '%Y-%m-%d %H:%M:%S.%f').hour)\n",
        "test_df['minute'] = test_df['timestamp'].apply(lambda x: datetime.strptime(str(x), '%Y-%m-%d %H:%M:%S.%f').minute)\n",
        "test_df['second'] = test_df['timestamp'].apply(lambda x: datetime.strptime(str(x), '%Y-%m-%d %H:%M:%S.%f').second)\n",
        "\n",
        "author_df['year'] = author_df['timestamp'].apply(lambda x: datetime.strptime(str(x), '%Y-%m-%d %H:%M:%S.%f').year)\n",
        "author_df['month'] = author_df['timestamp'].apply(lambda x: datetime.strptime(str(x), '%Y-%m-%d %H:%M:%S.%f').month)\n",
        "author_df['day'] = author_df['timestamp'].apply(lambda x: datetime.strptime(str(x), '%Y-%m-%d %H:%M:%S.%f').day)\n",
        "author_df['hour'] = author_df['timestamp'].apply(lambda x: datetime.strptime(str(x), '%Y-%m-%d %H:%M:%S.%f').hour)\n",
        "author_df['minute'] = author_df['timestamp'].apply(lambda x: datetime.strptime(str(x), '%Y-%m-%d %H:%M:%S.%f').minute)\n",
        "author_df['second'] = author_df['timestamp'].apply(lambda x: datetime.strptime(str(x), '%Y-%m-%d %H:%M:%S.%f').second)\n",
        "\n",
        "train_df['word_count_60'] = train_df['word_count'].apply(lambda x: 1 if x<60 else 0)\n",
        "test_df['word_count_60'] = test_df['word_count'].apply(lambda x: 1 if x<60 else 0)\n",
        "author_df['word_count_60'] = author_df['word_count'].apply(lambda x: 1 if x<60 else 0)\n",
        "\n",
        "temp_df = pd.concat([author_df,train_df.iloc[:, 0:13]])\n",
        "\n",
        "Average_author_engagement = temp_df.groupby('author')['engagement'].mean()\n",
        "Std_author_engagement = temp_df.groupby('author')['engagement'].std()\n",
        "Median_author_engagement = temp_df.groupby('author')['engagement'].median()\n",
        "Min_author_engagement = temp_df.groupby('author')['engagement'].min()\n",
        "Max_author_engagement = temp_df.groupby('author')['engagement'].max()\n",
        "\n",
        "Average_author_word_count = temp_df.groupby('author')['word_count'].mean()\n",
        "Std_author_word_count = temp_df.groupby('author')['word_count'].std()\n",
        "Median_author_word_count = temp_df.groupby('author')['word_count'].median()\n",
        "Min_author_word_count = temp_df.groupby('author')['word_count'].min()\n",
        "Max_author_word_count = temp_df.groupby('author')['word_count'].max()\n",
        "\n",
        "Average_number_followers = temp_df['followers'].mean()\n",
        "Std_number_followers = temp_df['followers'].std()\n",
        "Median_number_followers = temp_df['followers'].median()\n",
        "Min_number_followers = temp_df['followers'].min()\n",
        "Max_number_followers = temp_df['followers'].max()\n",
        "\n",
        "Average_Word_count_mean_engagement = temp_df.groupby('word_count')['engagement'].mean()\n",
        "Std_Word_count_mean_engagement = temp_df.groupby('word_count')['engagement'].std()\n",
        "Median_Word_count_mean_engagement = temp_df.groupby('word_count')['engagement'].median()\n",
        "Min_Word_count_mean_engagement = temp_df.groupby('word_count')['engagement'].min()\n",
        "Max_Word_count_mean_engagement = temp_df.groupby('word_count')['engagement'].max()\n",
        "\n",
        "train_df['Average_Word_count_mean_engagement'] = train_df['word_count'].apply(lambda x: Average_Word_count_mean_engagement[x])\n",
        "test_df['Average_Word_count_mean_engagement'] = test_df['word_count'].apply(lambda x: Average_Word_count_mean_engagement[x] if x in Average_Word_count_mean_engagement.index else np.nan)\n",
        "author_df['Average_Word_count_mean_engagement'] = author_df['word_count'].apply(lambda x: Average_Word_count_mean_engagement[x] if x in Average_Word_count_mean_engagement.index else np.nan)\n",
        "\n",
        "train_df['Std_Word_count_mean_engagement'] = train_df['word_count'].apply(lambda x: Std_Word_count_mean_engagement[x])\n",
        "test_df['Std_Word_count_mean_engagement'] = test_df['word_count'].apply(lambda x: Std_Word_count_mean_engagement[x] if x in Std_Word_count_mean_engagement.index else np.nan)\n",
        "author_df['Std_Word_count_mean_engagement'] = author_df['word_count'].apply(lambda x: Std_Word_count_mean_engagement[x] if x in Std_Word_count_mean_engagement.index else np.nan)\n",
        "\n",
        "train_df['Median_Word_count_mean_engagement'] = train_df['word_count'].apply(lambda x: Median_Word_count_mean_engagement[x])\n",
        "test_df['Median_Word_count_mean_engagement'] = test_df['word_count'].apply(lambda x: Median_Word_count_mean_engagement[x] if x in Median_Word_count_mean_engagement.index else np.nan)\n",
        "author_df['Median_Word_count_mean_engagement'] = author_df['word_count'].apply(lambda x: Median_Word_count_mean_engagement[x] if x in Median_Word_count_mean_engagement.index else np.nan)\n",
        "\n",
        "train_df['Min_Word_count_mean_engagement'] = train_df['word_count'].apply(lambda x: Min_Word_count_mean_engagement[x])\n",
        "test_df['Min_Word_count_mean_engagement'] = test_df['word_count'].apply(lambda x: Min_Word_count_mean_engagement[x] if x in Min_Word_count_mean_engagement.index else np.nan)\n",
        "author_df['Min_Word_count_mean_engagement'] = author_df['word_count'].apply(lambda x: Min_Word_count_mean_engagement[x] if x in Min_Word_count_mean_engagement.index else np.nan)\n",
        "\n",
        "train_df['Max_Word_count_mean_engagement'] = train_df['word_count'].apply(lambda x: Max_Word_count_mean_engagement[x])\n",
        "test_df['Max_Word_count_mean_engagement'] = test_df['word_count'].apply(lambda x: Max_Word_count_mean_engagement[x] if x in Max_Word_count_mean_engagement.index else np.nan)\n",
        "author_df['Max_Word_count_mean_engagement'] = author_df['word_count'].apply(lambda x: Max_Word_count_mean_engagement[x] if x in Max_Word_count_mean_engagement.index else np.nan)\n",
        "\n",
        "train_df['Average_author_engagement'] = train_df['author'].apply(lambda x: Average_author_engagement[x])\n",
        "test_df['Average_author_engagement'] = test_df['author'].apply(lambda x: Average_author_engagement[x] if x in Average_author_engagement.index else np.nan)\n",
        "author_df['Average_author_engagement'] = author_df['author'].apply(lambda x: Average_author_engagement[x] if x in Average_author_engagement.index else np.nan)\n",
        "\n",
        "train_df['Std_author_engagement'] = train_df['author'].apply(lambda x: Std_author_engagement[x])\n",
        "test_df['Std_author_engagement'] = test_df['author'].apply(lambda x: Std_author_engagement[x] if x in Std_author_engagement.index else np.nan)\n",
        "author_df['Std_author_engagement'] = author_df['author'].apply(lambda x: Std_author_engagement[x] if x in Std_author_engagement.index else np.nan)\n",
        "\n",
        "train_df['Median_author_engagement'] = train_df['author'].apply(lambda x: Median_author_engagement[x])\n",
        "test_df['Median_author_engagement'] = test_df['author'].apply(lambda x: Median_author_engagement[x] if x in Median_author_engagement.index else np.nan)\n",
        "author_df['Median_author_engagement'] = author_df['author'].apply(lambda x: Median_author_engagement[x] if x in Median_author_engagement.index else np.nan)\n",
        "\n",
        "train_df['Min_author_engagement'] = train_df['author'].apply(lambda x: Min_author_engagement[x])\n",
        "test_df['Min_author_engagement'] = test_df['author'].apply(lambda x: Min_author_engagement[x] if x in Min_author_engagement.index else np.nan)\n",
        "author_df['Min_author_engagement'] = author_df['author'].apply(lambda x: Min_author_engagement[x] if x in Min_author_engagement.index else np.nan)\n",
        "\n",
        "train_df['Max_author_engagement'] = train_df['author'].apply(lambda x: Max_author_engagement[x])\n",
        "test_df['Max_author_engagement'] = test_df['author'].apply(lambda x: Max_author_engagement[x] if x in Max_author_engagement.index else np.nan)\n",
        "author_df['Max_author_engagement'] = author_df['author'].apply(lambda x: Max_author_engagement[x] if x in Max_author_engagement.index else np.nan)\n",
        "\n",
        "train_df['Average_author_word_count'] = train_df['author'].apply(lambda x: Average_author_word_count[x])\n",
        "test_df['Average_author_word_count'] = test_df['author'].apply(lambda x: Average_author_word_count[x] if x in Average_author_word_count.index else np.nan)\n",
        "author_df['Average_author_word_count'] = author_df['author'].apply(lambda x: Average_author_word_count[x] if x in Average_author_word_count.index else np.nan)\n",
        "\n",
        "train_df['Std_author_word_count'] = train_df['author'].apply(lambda x: Std_author_word_count[x])\n",
        "test_df['Std_author_word_count'] = test_df['author'].apply(lambda x: Std_author_word_count[x] if x in Std_author_word_count.index else np.nan)\n",
        "author_df['Std_author_word_count'] = author_df['author'].apply(lambda x: Std_author_word_count[x] if x in Std_author_word_count.index else np.nan)\n",
        "\n",
        "train_df['Median_author_word_count'] = train_df['author'].apply(lambda x: Median_author_word_count[x])\n",
        "test_df['Median_author_word_count'] = test_df['author'].apply(lambda x: Median_author_word_count[x] if x in Median_author_word_count.index else np.nan)\n",
        "author_df['Median_author_word_count'] = author_df['author'].apply(lambda x: Median_author_word_count[x] if x in Median_author_word_count.index else np.nan)\n",
        "\n",
        "train_df['Min_author_word_count'] = train_df['author'].apply(lambda x: Min_author_word_count[x])\n",
        "test_df['Min_author_word_count'] = test_df['author'].apply(lambda x: Min_author_word_count[x] if x in Min_author_word_count.index else np.nan)\n",
        "author_df['Min_author_word_count'] = author_df['author'].apply(lambda x: Min_author_word_count[x] if x in Min_author_word_count.index else np.nan)\n",
        "\n",
        "train_df['Max_author_word_count'] = train_df['author'].apply(lambda x: Max_author_word_count[x])\n",
        "test_df['Max_author_word_count'] = test_df['author'].apply(lambda x: Max_author_word_count[x] if x in Max_author_word_count.index else np.nan)\n",
        "author_df['Max_author_word_count'] = author_df['author'].apply(lambda x: Max_author_word_count[x] if x in Max_author_word_count.index else np.nan)\n",
        "\n",
        "train_df['log_followers'] = train_df['followers'].apply(lambda x: log(1+x))\n",
        "test_df['log_followers'] = test_df['followers'].apply(lambda x: log(1+x))\n",
        "author_df['log_followers'] = author_df['followers'].apply(lambda x: log(1+x))\n",
        "\n",
        "# train_df = train_df.drop(columns=['timestamp','avg timestamp'])\n",
        "# test_df = test_df.drop(columns=['timestamp','avg timestamp'])\n",
        "# author_df = author_df.drop(columns=['timestamp','avg timestamp'])"
      ],
      "metadata": {
        "id": "yB2rjwpJEuDD"
      },
      "id": "yB2rjwpJEuDD",
      "execution_count": null,
      "outputs": []
    },
    {
      "cell_type": "code",
      "source": [
        "for i in range(1,1025):\n",
        "  train_df = train_df.drop(columns=f'V{i}')\n",
        "  test_df = test_df.drop(columns=f'V{i}')\n",
        "\n",
        "for i in range(1,1025):\n",
        "  train_df = train_df.drop(columns=f'PC{i}')\n",
        "  test_df = test_df.drop(columns=f'PC{i}')"
      ],
      "metadata": {
        "id": "Pn_4CyqADpmw"
      },
      "id": "Pn_4CyqADpmw",
      "execution_count": null,
      "outputs": []
    },
    {
      "cell_type": "markdown",
      "source": [
        "## Imports"
      ],
      "metadata": {
        "id": "efgpWmQaRwqD"
      },
      "id": "efgpWmQaRwqD"
    },
    {
      "cell_type": "code",
      "source": [
        "url_engagement = temp_df[[\"shared_url_domain\", \"engagement\"]].dropna()\n",
        "grouped = url_engagement.groupby(\"shared_url_domain\").agg(engagement=('engagement', 'mean'),)\n",
        "\n",
        "train_df['mean_url_discrepancy'] = train_df['shared_url_domain'].apply(lambda x: float(grouped.loc[x].values) if x in grouped.index else np.nan)\n",
        "test_df['mean_url_discrepancy'] = test_df['shared_url_domain'].apply(lambda x: float(grouped.loc[x].values) if x in grouped.index else np.nan)\n",
        "author_df['mean_url_discrepancy'] = author_df['shared_url_domain'].apply(lambda x: float(grouped.loc[x].values) if x in grouped.index else np.nan)\n",
        "\n",
        "grouped = url_engagement.groupby(\"shared_url_domain\").agg(engagement=('engagement', 'median'),)\n",
        "\n",
        "train_df['median_url_discrepancy'] = train_df['shared_url_domain'].apply(lambda x: float(grouped.loc[x].values) if x in grouped.index else np.nan)\n",
        "test_df['median_url_discrepancy'] = test_df['shared_url_domain'].apply(lambda x: float(grouped.loc[x].values) if x in grouped.index else np.nan)\n",
        "author_df['median_url_discrepancy'] = author_df['shared_url_domain'].apply(lambda x: float(grouped.loc[x].values) if x in grouped.index else np.nan)\n",
        "\n",
        "grouped = url_engagement.groupby(\"shared_url_domain\").agg(engagement=('engagement', 'min'),)\n",
        "\n",
        "train_df['min_url_discrepancy'] = train_df['shared_url_domain'].apply(lambda x: float(grouped.loc[x].values) if x in grouped.index else np.nan)\n",
        "test_df['min_url_discrepancy'] = test_df['shared_url_domain'].apply(lambda x: float(grouped.loc[x].values) if x in grouped.index else np.nan)\n",
        "author_df['min_url_discrepancy'] = author_df['shared_url_domain'].apply(lambda x: float(grouped.loc[x].values) if x in grouped.index else np.nan)\n",
        "\n",
        "grouped = url_engagement.groupby(\"shared_url_domain\").agg(engagement=('engagement', 'max'),)\n",
        "\n",
        "train_df['max_url_discrepancy'] = train_df['shared_url_domain'].apply(lambda x: float(grouped.loc[x].values) if x in grouped.index else np.nan)\n",
        "test_df['max_url_discrepancy'] = test_df['shared_url_domain'].apply(lambda x: float(grouped.loc[x].values) if x in grouped.index else np.nan)\n",
        "author_df['max_url_discrepancy'] = author_df['shared_url_domain'].apply(lambda x: float(grouped.loc[x].values) if x in grouped.index else np.nan)\n",
        "\n",
        "grouped = url_engagement.groupby(\"shared_url_domain\").agg(engagement=('engagement', 'std'),)\n",
        "\n",
        "train_df['std_url_discrepancy'] = train_df['shared_url_domain'].apply(lambda x: float(grouped.loc[x].values) if x in grouped.index else np.nan)\n",
        "test_df['std_url_discrepancy'] = test_df['shared_url_domain'].apply(lambda x: float(grouped.loc[x].values) if x in grouped.index else np.nan)\n",
        "author_df['std_url_discrepancy'] = author_df['shared_url_domain'].apply(lambda x: float(grouped.loc[x].values) if x in grouped.index else np.nan)"
      ],
      "metadata": {
        "id": "Bg2Af67sChkH"
      },
      "id": "Bg2Af67sChkH",
      "execution_count": null,
      "outputs": []
    },
    {
      "cell_type": "code",
      "source": [
        "# N = 1023\n",
        "# PCs1 = [\"PC\" + str(i) for i in range(1, N+1)]\n",
        "# PCs2 = ['PC1011','PC25','PC641','PC40','PC308','PC3','PC5','PC825','PC287','PC933','PC406','PC882','PC643','PC788','PC622','PC381']\n",
        "\n",
        "# for PC in PCs1:\n",
        "#   if PC not in PCs2:\n",
        "#     train_df = train_df.drop(columns=PC)\n",
        "#     test_df = test_df.drop(columns=PC)"
      ],
      "metadata": {
        "id": "zQRZLj-_4FT4"
      },
      "id": "zQRZLj-_4FT4",
      "execution_count": null,
      "outputs": []
    },
    {
      "cell_type": "code",
      "source": [
        "correlation_matrix = pd.concat([author_df,train_df]).corr()['engagement']\n",
        "correlation_matrix.abs().sort_values(ascending=False)"
      ],
      "metadata": {
        "colab": {
          "base_uri": "https://localhost:8080/"
        },
        "id": "HKTPD2nzR0Kx",
        "outputId": "fd2a3e65-5af4-4943-c7d5-f387dbbab3f7"
      },
      "id": "HKTPD2nzR0Kx",
      "execution_count": null,
      "outputs": [
        {
          "output_type": "execute_result",
          "data": {
            "text/plain": [
              "engagement                        1.000000\n",
              "mean_url_discrepancy              0.793380\n",
              "url engagement                    0.792797\n",
              "median_url_discrepancy            0.781447\n",
              "min_url_discrepancy               0.746639\n",
              "                                    ...   \n",
              "Max_Word_count_mean_engagement    0.001055\n",
              "minute                            0.000260\n",
              "Min_Word_count_mean_engagement    0.000102\n",
              "std shared_url_count                   NaN\n",
              "year                                   NaN\n",
              "Name: engagement, Length: 80, dtype: float64"
            ]
          },
          "metadata": {},
          "execution_count": 12
        }
      ]
    },
    {
      "cell_type": "code",
      "source": [
        "features = list(correlation_matrix.abs()[correlation_matrix.abs()>0.1].index)[1:]\n",
        "features"
      ],
      "metadata": {
        "colab": {
          "base_uri": "https://localhost:8080/"
        },
        "id": "Jis6a_GhVyMp",
        "outputId": "95225fc3-3fcc-4830-b183-95b56bcda4f9"
      },
      "id": "Jis6a_GhVyMp",
      "execution_count": null,
      "outputs": [
        {
          "output_type": "execute_result",
          "data": {
            "text/plain": [
              "['followers',\n",
              " 'avg engagement',\n",
              " 'std engagement',\n",
              " 'min engagement',\n",
              " 'max engagement',\n",
              " 'median engagement',\n",
              " 'avg followers',\n",
              " 'std followers',\n",
              " 'min followers',\n",
              " 'max followers',\n",
              " 'median followers',\n",
              " 'url engagement',\n",
              " 'Average_author_engagement',\n",
              " 'Std_author_engagement',\n",
              " 'Median_author_engagement',\n",
              " 'Min_author_engagement',\n",
              " 'Max_author_engagement',\n",
              " 'log_followers',\n",
              " 'mean_url_discrepancy',\n",
              " 'median_url_discrepancy',\n",
              " 'min_url_discrepancy',\n",
              " 'max_url_discrepancy',\n",
              " 'std_url_discrepancy']"
            ]
          },
          "metadata": {},
          "execution_count": 18
        }
      ]
    },
    {
      "cell_type": "code",
      "source": [
        "# features = [\n",
        "#     'day',\n",
        "#     'hour',\n",
        "#     'log_followers',\n",
        "#     \"avg engagement\",\n",
        "#     # 'author',\n",
        "#     # \"timestamp\",\n",
        "#     # \"feature1\",\n",
        "#     # \"feature2\",\n",
        "#     # \"word_count\",\n",
        "#     \"followers\",\n",
        "#     # \"is_reply\",\n",
        "#     # \"is_retweet\",\n",
        "#     \"contains_video\",\n",
        "#     # \"contains_image\",\n",
        "#     # \"shared_url_count\",\n",
        "#     # \"url engagement\",\n",
        "\n",
        "# ] # + PCs\n",
        "\n",
        "# avgs = [\n",
        "#     # # \"avg engagement\",\n",
        "#     # # \"avg timestamp\",\n",
        "#     # \"avg feature1\",\n",
        "#     # \"avg feature2\",\n",
        "#     # # \"avg followers\",\n",
        "#     # \"avg word_count\",\n",
        "#     # # \"avg shared_url_count\",\n",
        "# ]\n",
        "\n",
        "# devs = [\n",
        "#     # # \"dev timestamp\",\n",
        "#     # \"dev feature1\",\n",
        "#     # \"dev feature2\",\n",
        "#     # # \"dev followers\",\n",
        "#     # \"dev word_count\",\n",
        "# ]\n",
        "\n",
        "# Separate features and target variable\n",
        "X = pd.concat([train_df[features],author_df[features]])\n",
        "y = pd.concat([train_df,author_df])['engagement']"
      ],
      "metadata": {
        "id": "06orB_IvFNjK"
      },
      "id": "06orB_IvFNjK",
      "execution_count": null,
      "outputs": []
    },
    {
      "cell_type": "code",
      "source": [
        "# regressor = xgb.XGBRegressor(\n",
        "#     task_type=\"GPU\",\n",
        "#     objective='reg:squarederror',  # Specify regression as the learning task\n",
        "#     n_estimators=90,  # Number of boosting rounds\n",
        "#     learning_rate=0.02,  # Step size shrinkage used to prevent overfitting\n",
        "#     max_depth=2,  # Maximum depth of the tree\n",
        "#     subsample=0.8,  # Subsample ratio of the training instances\n",
        "#     colsample_bytree=0.8,  # Subsample ratio of columns when constructing each tree\n",
        "#     random_state=100,  # Random seed for reproducibility\n",
        "#     verbose=1,\n",
        "#     reg_lambda=2,\n",
        "#     enable_categorical=True\n",
        "# )\n",
        "# regressor.fit(X, y)\n",
        "# train_predictions = regressor.predict(X)\n",
        "# # Calculate and print R2 scores\n",
        "# r2_train = r2_score(y, train_predictions)\n",
        "# print(f'R2 Train : {r2_train*100:.2f}%')"
      ],
      "metadata": {
        "id": "rM0t3xxUNpDR"
      },
      "id": "rM0t3xxUNpDR",
      "execution_count": null,
      "outputs": []
    },
    {
      "cell_type": "code",
      "source": [
        "# pd.concat([author_df,train_df.iloc[:, 0:13],test_df])"
      ],
      "metadata": {
        "id": "FD4J8QxCvVrl"
      },
      "id": "FD4J8QxCvVrl",
      "execution_count": null,
      "outputs": []
    },
    {
      "cell_type": "code",
      "source": [
        "import numpy as np\n",
        "from sklearn.impute import KNNImputer\n",
        "\n",
        "# Assuming X is your feature matrix with NaN values\n",
        "# Create KNNImputer instance\n",
        "knn_imputer = KNNImputer(n_neighbors=5)  # You can adjust the number of neighbors (k) as needed\n",
        "\n",
        "# Impute NaN values using KNN\n",
        "X_train_imputed = knn_imputer.fit_transform(X)\n",
        "X_test_imputed = knn_imputer.transform(test_df[features])\n",
        "X_train_imputed"
      ],
      "metadata": {
        "id": "HA3yyOcTsXej"
      },
      "id": "HA3yyOcTsXej",
      "execution_count": null,
      "outputs": []
    },
    {
      "cell_type": "code",
      "source": [],
      "metadata": {
        "id": "_mwuqdjbGURI"
      },
      "id": "_mwuqdjbGURI",
      "execution_count": null,
      "outputs": []
    },
    {
      "cell_type": "code",
      "source": [
        "np.savetxt('X_train_imputed', X_train_imputed)\n",
        "np.savetxt('X_test_imputed', X_test_imputed)"
      ],
      "metadata": {
        "id": "U2hVk3qJ5RaZ"
      },
      "id": "U2hVk3qJ5RaZ",
      "execution_count": null,
      "outputs": []
    },
    {
      "cell_type": "code",
      "source": [
        "# Import necessary libraries\n",
        "import tensorflow as tf\n",
        "import keras\n",
        "from tensorflow.keras.models import Sequential\n",
        "from tensorflow.keras.layers import Dense, Dropout\n",
        "from tensorflow.keras.optimizers import Adam\n",
        "from sklearn.model_selection import train_test_split\n",
        "from sklearn.preprocessing import StandardScaler\n",
        "\n",
        "# Standardize features\n",
        "scaler = StandardScaler()\n",
        "X = scaler.fit_transform(X_train_imputed)\n",
        "y = y.astype('float32')\n",
        "# Split data into training and testing sets\n",
        "X_train, X_test, y_train, y_test = train_test_split(X, y, test_size=0.2, random_state=42)\n",
        "\n",
        "# Define the model\n",
        "model = Sequential()\n",
        "model.add(Dense(256, input_shape=(X_train.shape[1],), activation='relu'))\n",
        "model.add(Dropout(0.5))  # Dropout layer with a dropout rate of 0.5\n",
        "model.add(Dense(128, activation='relu'))\n",
        "model.add(Dropout(0.5))\n",
        "model.add(Dense(128, activation='relu'))\n",
        "model.add(Dropout(0.5))\n",
        "model.add(Dense(1, activation='linear'))  # Output layer for regression\n",
        "\n",
        "def rmse(y_true, y_pred):\n",
        "    return tf.sqrt(tf.reduce_mean(tf.square(y_pred - y_true)))\n",
        "\n",
        "# Compile the model\n",
        "model.compile(optimizer=Adam(lr=0.001), loss=rmse, metrics=['mae'])\n",
        "\n",
        "# Print a summary of the model architecture\n",
        "model.summary()\n",
        "\n",
        "# Train the model\n",
        "model.fit(X_train, y_train, epochs=50, batch_size=256, validation_split=0.2)\n",
        "\n",
        "# Evaluate the model on the test set\n",
        "loss, mae = model.evaluate(X_test, y_test)\n",
        "print(f'Test Loss (MSE): {loss:.4f}, Test MAE: {mae:.4f}')"
      ],
      "metadata": {
        "colab": {
          "base_uri": "https://localhost:8080/"
        },
        "id": "dNcqhJ-aqa7j",
        "outputId": "c59a2775-8031-46a4-acd1-7e8d125a8218"
      },
      "id": "dNcqhJ-aqa7j",
      "execution_count": null,
      "outputs": [
        {
          "output_type": "stream",
          "name": "stderr",
          "text": [
            "WARNING:absl:`lr` is deprecated in Keras optimizer, please use `learning_rate` or use the legacy optimizer, e.g.,tf.keras.optimizers.legacy.Adam.\n"
          ]
        },
        {
          "output_type": "stream",
          "name": "stdout",
          "text": [
            "Model: \"sequential\"\n",
            "_________________________________________________________________\n",
            " Layer (type)                Output Shape              Param #   \n",
            "=================================================================\n",
            " dense (Dense)               (None, 256)               6144      \n",
            "                                                                 \n",
            " dropout (Dropout)           (None, 256)               0         \n",
            "                                                                 \n",
            " dense_1 (Dense)             (None, 128)               32896     \n",
            "                                                                 \n",
            " dropout_1 (Dropout)         (None, 128)               0         \n",
            "                                                                 \n",
            " dense_2 (Dense)             (None, 128)               16512     \n",
            "                                                                 \n",
            " dropout_2 (Dropout)         (None, 128)               0         \n",
            "                                                                 \n",
            " dense_3 (Dense)             (None, 1)                 129       \n",
            "                                                                 \n",
            "=================================================================\n",
            "Total params: 55681 (217.50 KB)\n",
            "Trainable params: 55681 (217.50 KB)\n",
            "Non-trainable params: 0 (0.00 Byte)\n",
            "_________________________________________________________________\n",
            "Epoch 1/50\n",
            "25/25 [==============================] - 4s 11ms/step - loss: 8206.8662 - mae: 1396.1042 - val_loss: 8491.3916 - val_mae: 1382.1924\n",
            "Epoch 2/50\n",
            "25/25 [==============================] - 0s 4ms/step - loss: 8429.5098 - mae: 1388.0391 - val_loss: 8431.0752 - val_mae: 1362.9459\n",
            "Epoch 3/50\n",
            "25/25 [==============================] - 0s 5ms/step - loss: 8019.8862 - mae: 1345.4563 - val_loss: 8030.7793 - val_mae: 1269.1173\n",
            "Epoch 4/50\n",
            "25/25 [==============================] - 0s 5ms/step - loss: 7063.7588 - mae: 1268.9825 - val_loss: 7056.9390 - val_mae: 1173.0073\n",
            "Epoch 5/50\n",
            "25/25 [==============================] - 0s 5ms/step - loss: 6821.7324 - mae: 1355.3478 - val_loss: 6640.1943 - val_mae: 1233.7233\n",
            "Epoch 6/50\n",
            "25/25 [==============================] - 0s 4ms/step - loss: 6789.8340 - mae: 1297.7544 - val_loss: 6586.7539 - val_mae: 1137.7987\n",
            "Epoch 7/50\n",
            "25/25 [==============================] - 0s 5ms/step - loss: 6477.5693 - mae: 1250.9429 - val_loss: 6469.0205 - val_mae: 1160.9694\n",
            "Epoch 8/50\n",
            "25/25 [==============================] - 0s 5ms/step - loss: 6281.3691 - mae: 1237.0127 - val_loss: 6437.0654 - val_mae: 1115.6194\n",
            "Epoch 9/50\n",
            "25/25 [==============================] - 0s 4ms/step - loss: 6485.7485 - mae: 1207.1383 - val_loss: 6389.4927 - val_mae: 1098.9373\n",
            "Epoch 10/50\n",
            "25/25 [==============================] - 0s 4ms/step - loss: 6571.7456 - mae: 1191.0524 - val_loss: 6397.5430 - val_mae: 1069.7062\n",
            "Epoch 11/50\n",
            "25/25 [==============================] - 0s 4ms/step - loss: 6712.3721 - mae: 1169.2054 - val_loss: 6372.4458 - val_mae: 1073.1075\n",
            "Epoch 12/50\n",
            "25/25 [==============================] - 0s 4ms/step - loss: 6527.3257 - mae: 1187.8130 - val_loss: 6349.8721 - val_mae: 1087.5269\n",
            "Epoch 13/50\n",
            "25/25 [==============================] - 0s 5ms/step - loss: 6430.9336 - mae: 1201.1522 - val_loss: 6335.4492 - val_mae: 1080.6735\n",
            "Epoch 14/50\n",
            "25/25 [==============================] - 0s 4ms/step - loss: 6402.7529 - mae: 1139.0796 - val_loss: 6333.2769 - val_mae: 1064.0371\n",
            "Epoch 15/50\n",
            "25/25 [==============================] - 0s 5ms/step - loss: 6272.3936 - mae: 1154.2415 - val_loss: 6326.5420 - val_mae: 1058.2719\n",
            "Epoch 16/50\n",
            "25/25 [==============================] - 0s 5ms/step - loss: 6417.2812 - mae: 1149.9369 - val_loss: 6316.5093 - val_mae: 1065.3833\n",
            "Epoch 17/50\n",
            "25/25 [==============================] - 0s 5ms/step - loss: 6175.4419 - mae: 1143.6768 - val_loss: 6325.3032 - val_mae: 1044.2249\n",
            "Epoch 18/50\n",
            "25/25 [==============================] - 0s 5ms/step - loss: 6302.2368 - mae: 1125.1527 - val_loss: 6353.7827 - val_mae: 1028.6251\n",
            "Epoch 19/50\n",
            "25/25 [==============================] - 0s 5ms/step - loss: 6307.9189 - mae: 1118.2651 - val_loss: 6338.4761 - val_mae: 1042.4390\n",
            "Epoch 20/50\n",
            "25/25 [==============================] - 0s 4ms/step - loss: 6583.5557 - mae: 1133.7163 - val_loss: 6335.4546 - val_mae: 1046.9851\n",
            "Epoch 21/50\n",
            "25/25 [==============================] - 0s 5ms/step - loss: 5804.5176 - mae: 1124.2036 - val_loss: 6328.2900 - val_mae: 1050.6469\n",
            "Epoch 22/50\n",
            "25/25 [==============================] - 0s 5ms/step - loss: 6317.6787 - mae: 1110.0872 - val_loss: 6329.1187 - val_mae: 1042.8461\n",
            "Epoch 23/50\n",
            "25/25 [==============================] - 0s 4ms/step - loss: 6260.5044 - mae: 1147.8340 - val_loss: 6320.5156 - val_mae: 1067.6455\n",
            "Epoch 24/50\n",
            "25/25 [==============================] - 0s 5ms/step - loss: 6239.8950 - mae: 1158.4536 - val_loss: 6307.1836 - val_mae: 1038.9034\n",
            "Epoch 25/50\n",
            "25/25 [==============================] - 0s 4ms/step - loss: 6258.9380 - mae: 1119.0851 - val_loss: 6316.6357 - val_mae: 1015.1051\n",
            "Epoch 26/50\n",
            "25/25 [==============================] - 0s 5ms/step - loss: 6189.4043 - mae: 1079.2349 - val_loss: 6322.7910 - val_mae: 1013.0990\n",
            "Epoch 27/50\n",
            "25/25 [==============================] - 0s 4ms/step - loss: 6250.1392 - mae: 1086.4219 - val_loss: 6319.3926 - val_mae: 1008.1403\n",
            "Epoch 28/50\n",
            "25/25 [==============================] - 0s 5ms/step - loss: 6140.4419 - mae: 1089.2562 - val_loss: 6295.8936 - val_mae: 1018.2056\n",
            "Epoch 29/50\n",
            "25/25 [==============================] - 0s 4ms/step - loss: 6579.5601 - mae: 1117.2223 - val_loss: 6287.2148 - val_mae: 1031.4996\n",
            "Epoch 30/50\n",
            "25/25 [==============================] - 0s 4ms/step - loss: 6316.3281 - mae: 1103.4246 - val_loss: 6294.9448 - val_mae: 1009.4776\n",
            "Epoch 31/50\n",
            "25/25 [==============================] - 0s 4ms/step - loss: 6243.2705 - mae: 1102.5353 - val_loss: 6280.6704 - val_mae: 1017.2748\n",
            "Epoch 32/50\n",
            "25/25 [==============================] - 0s 5ms/step - loss: 6255.8862 - mae: 1100.2158 - val_loss: 6304.3013 - val_mae: 1003.2921\n",
            "Epoch 33/50\n",
            "25/25 [==============================] - 0s 5ms/step - loss: 6316.8789 - mae: 1079.8855 - val_loss: 6280.1177 - val_mae: 1031.3258\n",
            "Epoch 34/50\n",
            "25/25 [==============================] - 0s 5ms/step - loss: 6344.6543 - mae: 1127.8840 - val_loss: 6273.6802 - val_mae: 1029.1633\n",
            "Epoch 35/50\n",
            "25/25 [==============================] - 0s 4ms/step - loss: 6416.0029 - mae: 1132.4813 - val_loss: 6267.5464 - val_mae: 1044.2804\n",
            "Epoch 36/50\n",
            "25/25 [==============================] - 0s 4ms/step - loss: 6421.5962 - mae: 1095.8202 - val_loss: 6280.8311 - val_mae: 1001.9469\n",
            "Epoch 37/50\n",
            "25/25 [==============================] - 0s 4ms/step - loss: 6242.3433 - mae: 1106.9982 - val_loss: 6265.9590 - val_mae: 1010.2955\n",
            "Epoch 38/50\n",
            "25/25 [==============================] - 0s 5ms/step - loss: 6069.4595 - mae: 1082.6293 - val_loss: 6266.2930 - val_mae: 1014.0109\n",
            "Epoch 39/50\n",
            "25/25 [==============================] - 0s 4ms/step - loss: 6364.5083 - mae: 1088.3333 - val_loss: 6260.7075 - val_mae: 1011.7530\n",
            "Epoch 40/50\n",
            "25/25 [==============================] - 0s 5ms/step - loss: 6348.7056 - mae: 1091.5598 - val_loss: 6247.6050 - val_mae: 1022.9053\n",
            "Epoch 41/50\n",
            "25/25 [==============================] - 0s 8ms/step - loss: 5797.6411 - mae: 1086.4945 - val_loss: 6249.6777 - val_mae: 1007.1166\n",
            "Epoch 42/50\n",
            "25/25 [==============================] - 0s 6ms/step - loss: 6332.5439 - mae: 1074.3091 - val_loss: 6239.1914 - val_mae: 1011.4062\n",
            "Epoch 43/50\n",
            "25/25 [==============================] - 0s 6ms/step - loss: 6310.4082 - mae: 1086.7275 - val_loss: 6227.9888 - val_mae: 1015.4930\n",
            "Epoch 44/50\n",
            "25/25 [==============================] - 0s 6ms/step - loss: 6257.6982 - mae: 1071.3730 - val_loss: 6226.4863 - val_mae: 1016.3070\n",
            "Epoch 45/50\n",
            "25/25 [==============================] - 0s 6ms/step - loss: 6557.9785 - mae: 1096.0348 - val_loss: 6230.9531 - val_mae: 1009.1500\n",
            "Epoch 46/50\n",
            "25/25 [==============================] - 0s 6ms/step - loss: 6479.8018 - mae: 1081.5813 - val_loss: 6229.4614 - val_mae: 1008.9031\n",
            "Epoch 47/50\n",
            "25/25 [==============================] - 0s 7ms/step - loss: 6150.4502 - mae: 1069.8645 - val_loss: 6227.8623 - val_mae: 1008.8876\n",
            "Epoch 48/50\n",
            "25/25 [==============================] - 0s 7ms/step - loss: 6480.4258 - mae: 1097.7170 - val_loss: 6242.3701 - val_mae: 997.5820\n",
            "Epoch 49/50\n",
            "25/25 [==============================] - 0s 6ms/step - loss: 6532.2812 - mae: 1079.2690 - val_loss: 6230.8721 - val_mae: 1004.1127\n",
            "Epoch 50/50\n",
            "25/25 [==============================] - 0s 6ms/step - loss: 6222.3657 - mae: 1093.6505 - val_loss: 6226.4507 - val_mae: 1007.9219\n",
            "63/63 [==============================] - 0s 2ms/step - loss: 6114.5830 - mae: 1435.0233\n",
            "Test Loss (MSE): 6114.5830, Test MAE: 1435.0233\n"
          ]
        }
      ]
    },
    {
      "cell_type": "code",
      "source": [
        "# # Split the data into training and testing sets\n",
        "# X_train, X_test, y_train, y_test = train_test_split(X, y, test_size=0.2, random_state=42)\n",
        "\n",
        "# regressor = xgb.XGBRegressor(\n",
        "#     task_type=\"GPU\",\n",
        "#     objective='reg:squarederror',  # Specify regression as the learning task\n",
        "#     n_estimators=1400,  # Number of boosting rounds\n",
        "#     learning_rate=0.035,  # Step size shrinkage used to prevent overfitting\n",
        "#     max_depth=2,  # Maximum depth of the tree\n",
        "#     subsample=0.8,  # Subsample ratio of the training instances\n",
        "#     colsample_bytree=0.83,  # Subsample ratio of columns when constructing each tree\n",
        "#     random_state=100,  # Random seed for reproducibility\n",
        "#     verbose=1,\n",
        "#     reg_lambda=2,\n",
        "#     enable_categorical=True\n",
        "# )\n",
        "# regressor.fit(X_train, y_train)\n",
        "\n",
        "# # Make predictions on the training and test data\n",
        "# train_predictions = regressor.predict(X_train)\n",
        "# train_predictions = [max(element,0) for element in train_predictions]\n",
        "\n",
        "# test_predictions = regressor.predict(X_test)\n",
        "# test_predictions = [max(element,0) for element in test_predictions]\n",
        "\n",
        "# # Calculate and print R2 scores\n",
        "# r2_train = r2_score(y_train, train_predictions)\n",
        "# r2_test = r2_score(y_test, test_predictions)\n",
        "\n",
        "# print(f'R2 Train : {r2_train*100:.2f}%')\n",
        "# print(f'R2 Test  : {r2_test*100:.2f}%')"
      ],
      "metadata": {
        "id": "ccievfPTNnoK"
      },
      "id": "ccievfPTNnoK",
      "execution_count": null,
      "outputs": []
    },
    {
      "cell_type": "code",
      "source": [
        "# train_df[\"prediction\"] = regressor.predict(X)\n",
        "\n",
        "# train_df[\"SE\"] = (train_df[\"engagement\"] - train_df[\"prediction\"]) ** 2\n",
        "# train_df[\"E\"]  = train_df[\"prediction\"] - train_df[\"engagement\"]\n",
        "# # Get feature importances\n",
        "# feature_importances = regressor.feature_importances_\n",
        "# # Create a DataFrame to store feature names and their importances\n",
        "# feature_importance_df = pd.DataFrame({'Feature': X.columns,'Importance': feature_importances})\n",
        "# # Sort the DataFrame by importance in descending order\n",
        "# feature_importance_df = feature_importance_df.sort_values(by='Importance', ascending=False)\n",
        "# # Print feature importances\n",
        "# print('\\nFeature Importances:')\n",
        "# print(feature_importance_df)"
      ],
      "metadata": {
        "id": "NkxKmAq7R9lA"
      },
      "id": "NkxKmAq7R9lA",
      "execution_count": null,
      "outputs": []
    },
    {
      "cell_type": "code",
      "source": [
        "# predictions = regressor.predict(test_df[features])\n",
        "# predictions = [max(element,0) for element in predictions]\n",
        "# final_submission = pd.DataFrame({'Id': test_df['Id'], \"engagement\":predictions})\n",
        "# final_submission['Id'] = final_submission['Id'].astype('int')"
      ],
      "metadata": {
        "id": "8Efdn49PUFC8"
      },
      "id": "8Efdn49PUFC8",
      "execution_count": null,
      "outputs": []
    },
    {
      "cell_type": "code",
      "source": [
        "predictions = model.predict(scaler.transform(X_test_imputed))\n",
        "predictions = [max(element,0) for element in predictions]\n",
        "final_submission = pd.DataFrame({'Id': test_df['Id'], \"engagement\":predictions})\n",
        "final_submission['Id'] = final_submission['Id'].astype('int')\n",
        "final_submission['engagement'] = final_submission['engagement'].astype('int')"
      ],
      "metadata": {
        "colab": {
          "base_uri": "https://localhost:8080/"
        },
        "id": "1jDoCEaWufN_",
        "outputId": "0dd5660b-2980-466e-b05b-66600789b8e8"
      },
      "id": "1jDoCEaWufN_",
      "execution_count": null,
      "outputs": [
        {
          "output_type": "stream",
          "name": "stdout",
          "text": [
            "59/59 [==============================] - 0s 1ms/step\n"
          ]
        }
      ]
    },
    {
      "cell_type": "code",
      "source": [
        "plt.scatter(list(range(1871)),final_submission['engagement'].sort_values().values)"
      ],
      "metadata": {
        "colab": {
          "base_uri": "https://localhost:8080/",
          "height": 452
        },
        "id": "j0LOZYk-Ykry",
        "outputId": "b26e13ab-89ce-449e-fc3f-efed1d63a7e4"
      },
      "id": "j0LOZYk-Ykry",
      "execution_count": null,
      "outputs": [
        {
          "output_type": "execute_result",
          "data": {
            "text/plain": [
              "<matplotlib.collections.PathCollection at 0x7b4803b08550>"
            ]
          },
          "metadata": {},
          "execution_count": 42
        },
        {
          "output_type": "display_data",
          "data": {
            "text/plain": [
              "<Figure size 640x480 with 1 Axes>"
            ],
            "image/png": "[encoded data removed]"
          },
          "metadata": {}
        }
      ]
    },
    {
      "cell_type": "code",
      "source": [
        "from google.colab import files\n",
        "final_submission.to_csv('Benjamin Cohen - M2 Proba-Finance 2023.csv',header=['Id',\"engagement\"],index=False)\n",
        "files.download('Benjamin Cohen - M2 Proba-Finance 2023.csv')"
      ],
      "metadata": {
        "id": "yiit3LUCX4TU"
      },
      "id": "yiit3LUCX4TU",
      "execution_count": null,
      "outputs": []
    },
    {
      "cell_type": "code",
      "source": [
        "final_submission"
      ],
      "metadata": {
        "colab": {
          "base_uri": "https://localhost:8080/",
          "height": 424
        },
        "id": "OvabvWqlu3fi",
        "outputId": "ff9bd8b3-fd98-43e8-82cf-59ce37e2443f"
      },
      "id": "OvabvWqlu3fi",
      "execution_count": null,
      "outputs": [
        {
          "output_type": "execute_result",
          "data": {
            "text/plain": [
              "        Id  engagement\n",
              "0        1          77\n",
              "1        2         632\n",
              "2        3        2819\n",
              "3        4        2820\n",
              "4        5          18\n",
              "...    ...         ...\n",
              "1866  2493         778\n",
              "1867  2495          42\n",
              "1868  2496          98\n",
              "1869  2498         177\n",
              "1870  2500           0\n",
              "\n",
              "[1871 rows x 2 columns]"
            ],
            "text/html": [
              "\n",
              "  <div id=\"df-10fefb47-3724-48ac-ace9-f4f69c829c14\" class=\"colab-df-container\">\n",
              "    <div>\n",
              "<style scoped>\n",
              "    .dataframe tbody tr th:only-of-type {\n",
              "        vertical-align: middle;\n",
              "    }\n",
              "\n",
              "    .dataframe tbody tr th {\n",
              "        vertical-align: top;\n",
              "    }\n",
              "\n",
              "    .dataframe thead th {\n",
              "        text-align: right;\n",
              "    }\n",
              "</style>\n",
              "<table border=\"1\" class=\"dataframe\">\n",
              "  <thead>\n",
              "    <tr style=\"text-align: right;\">\n",
              "      <th></th>\n",
              "      <th>Id</th>\n",
              "      <th>engagement</th>\n",
              "    </tr>\n",
              "  </thead>\n",
              "  <tbody>\n",
              "    <tr>\n",
              "      <th>0</th>\n",
              "      <td>1</td>\n",
              "      <td>77</td>\n",
              "    </tr>\n",
              "    <tr>\n",
              "      <th>1</th>\n",
              "      <td>2</td>\n",
              "      <td>632</td>\n",
              "    </tr>\n",
              "    <tr>\n",
              "      <th>2</th>\n",
              "      <td>3</td>\n",
              "      <td>2819</td>\n",
              "    </tr>\n",
              "    <tr>\n",
              "      <th>3</th>\n",
              "      <td>4</td>\n",
              "      <td>2820</td>\n",
              "    </tr>\n",
              "    <tr>\n",
              "      <th>4</th>\n",
              "      <td>5</td>\n",
              "      <td>18</td>\n",
              "    </tr>\n",
              "    <tr>\n",
              "      <th>...</th>\n",
              "      <td>...</td>\n",
              "      <td>...</td>\n",
              "    </tr>\n",
              "    <tr>\n",
              "      <th>1866</th>\n",
              "      <td>2493</td>\n",
              "      <td>778</td>\n",
              "    </tr>\n",
              "    <tr>\n",
              "      <th>1867</th>\n",
              "      <td>2495</td>\n",
              "      <td>42</td>\n",
              "    </tr>\n",
              "    <tr>\n",
              "      <th>1868</th>\n",
              "      <td>2496</td>\n",
              "      <td>98</td>\n",
              "    </tr>\n",
              "    <tr>\n",
              "      <th>1869</th>\n",
              "      <td>2498</td>\n",
              "      <td>177</td>\n",
              "    </tr>\n",
              "    <tr>\n",
              "      <th>1870</th>\n",
              "      <td>2500</td>\n",
              "      <td>0</td>\n",
              "    </tr>\n",
              "  </tbody>\n",
              "</table>\n",
              "<p>1871 rows × 2 columns</p>\n",
              "</div>\n",
              "    <div class=\"colab-df-buttons\">\n",
              "\n",
              "  <div class=\"colab-df-container\">\n",
              "    <button class=\"colab-df-convert\" onclick=\"convertToInteractive('df-10fefb47-3724-48ac-ace9-f4f69c829c14')\"\n",
              "            title=\"Convert this dataframe to an interactive table.\"\n",
              "            style=\"display:none;\">\n",
              "\n",
              "  <svg xmlns=\"http://www.w3.org/2000/svg\" height=\"24px\" viewBox=\"0 -960 960 960\">\n",
              "    <path d=\"M120-120v-720h720v720H120Zm60-500h600v-160H180v160Zm220 220h160v-160H400v160Zm0 220h160v-160H400v160ZM180-400h160v-160H180v160Zm440 0h160v-160H620v160ZM180-180h160v-160H180v160Zm440 0h160v-160H620v160Z\"/>\n",
              "  </svg>\n",
              "    </button>\n",
              "\n",
              "  <style>\n",
              "    .colab-df-container {\n",
              "      display:flex;\n",
              "      gap: 12px;\n",
              "    }\n",
              "\n",
              "    .colab-df-convert {\n",
              "      background-color: #E8F0FE;\n",
              "      border: none;\n",
              "      border-radius: 50%;\n",
              "      cursor: pointer;\n",
              "      display: none;\n",
              "      fill: #1967D2;\n",
              "      height: 32px;\n",
              "      padding: 0 0 0 0;\n",
              "      width: 32px;\n",
              "    }\n",
              "\n",
              "    .colab-df-convert:hover {\n",
              "      background-color: #E2EBFA;\n",
              "      box-shadow: 0px 1px 2px rgba(60, 64, 67, 0.3), 0px 1px 3px 1px rgba(60, 64, 67, 0.15);\n",
              "      fill: #174EA6;\n",
              "    }\n",
              "\n",
              "    .colab-df-buttons div {\n",
              "      margin-bottom: 4px;\n",
              "    }\n",
              "\n",
              "    [theme=dark] .colab-df-convert {\n",
              "      background-color: #3B4455;\n",
              "      fill: #D2E3FC;\n",
              "    }\n",
              "\n",
              "    [theme=dark] .colab-df-convert:hover {\n",
              "      background-color: #434B5C;\n",
              "      box-shadow: 0px 1px 3px 1px rgba(0, 0, 0, 0.15);\n",
              "      filter: drop-shadow(0px 1px 2px rgba(0, 0, 0, 0.3));\n",
              "      fill: #FFFFFF;\n",
              "    }\n",
              "  </style>\n",
              "\n",
              "    <script>\n",
              "      const buttonEl =\n",
              "        document.querySelector('#df-10fefb47-3724-48ac-ace9-f4f69c829c14 button.colab-df-convert');\n",
              "      buttonEl.style.display =\n",
              "        google.colab.kernel.accessAllowed ? 'block' : 'none';\n",
              "\n",
              "      async function convertToInteractive(key) {\n",
              "        const element = document.querySelector('#df-10fefb47-3724-48ac-ace9-f4f69c829c14');\n",
              "        const dataTable =\n",
              "          await google.colab.kernel.invokeFunction('convertToInteractive',\n",
              "                                                    [key], {});\n",
              "        if (!dataTable) return;\n",
              "\n",
              "        const docLinkHtml = 'Like what you see? Visit the ' +\n",
              "          '<a target=\"_blank\" href=https://colab.research.google.com/notebooks/data_table.ipynb>data table notebook</a>'\n",
              "          + ' to learn more about interactive tables.';\n",
              "        element.innerHTML = '';\n",
              "        dataTable['output_type'] = 'display_data';\n",
              "        await google.colab.output.renderOutput(dataTable, element);\n",
              "        const docLink = document.createElement('div');\n",
              "        docLink.innerHTML = docLinkHtml;\n",
              "        element.appendChild(docLink);\n",
              "      }\n",
              "    </script>\n",
              "  </div>\n",
              "\n",
              "\n",
              "<div id=\"df-0fcf453f-1e19-49e1-a960-611b824b4e89\">\n",
              "  <button class=\"colab-df-quickchart\" onclick=\"quickchart('df-0fcf453f-1e19-49e1-a960-611b824b4e89')\"\n",
              "            title=\"Suggest charts\"\n",
              "            style=\"display:none;\">\n",
              "\n",
              "<svg xmlns=\"http://www.w3.org/2000/svg\" height=\"24px\"viewBox=\"0 0 24 24\"\n",
              "     width=\"24px\">\n",
              "    <g>\n",
              "        <path d=\"M19 3H5c-1.1 0-2 .9-2 2v14c0 1.1.9 2 2 2h14c1.1 0 2-.9 2-2V5c0-1.1-.9-2-2-2zM9 17H7v-7h2v7zm4 0h-2V7h2v10zm4 0h-2v-4h2v4z\"/>\n",
              "    </g>\n",
              "</svg>\n",
              "  </button>\n",
              "\n",
              "<style>\n",
              "  .colab-df-quickchart {\n",
              "      --bg-color: #E8F0FE;\n",
              "      --fill-color: #1967D2;\n",
              "      --hover-bg-color: #E2EBFA;\n",
              "      --hover-fill-color: #174EA6;\n",
              "      --disabled-fill-color: #AAA;\n",
              "      --disabled-bg-color: #DDD;\n",
              "  }\n",
              "\n",
              "  [theme=dark] .colab-df-quickchart {\n",
              "      --bg-color: #3B4455;\n",
              "      --fill-color: #D2E3FC;\n",
              "      --hover-bg-color: #434B5C;\n",
              "      --hover-fill-color: #FFFFFF;\n",
              "      --disabled-bg-color: #3B4455;\n",
              "      --disabled-fill-color: #666;\n",
              "  }\n",
              "\n",
              "  .colab-df-quickchart {\n",
              "    background-color: var(--bg-color);\n",
              "    border: none;\n",
              "    border-radius: 50%;\n",
              "    cursor: pointer;\n",
              "    display: none;\n",
              "    fill: var(--fill-color);\n",
              "    height: 32px;\n",
              "    padding: 0;\n",
              "    width: 32px;\n",
              "  }\n",
              "\n",
              "  .colab-df-quickchart:hover {\n",
              "    background-color: var(--hover-bg-color);\n",
              "    box-shadow: 0 1px 2px rgba(60, 64, 67, 0.3), 0 1px 3px 1px rgba(60, 64, 67, 0.15);\n",
              "    fill: var(--button-hover-fill-color);\n",
              "  }\n",
              "\n",
              "  .colab-df-quickchart-complete:disabled,\n",
              "  .colab-df-quickchart-complete:disabled:hover {\n",
              "    background-color: var(--disabled-bg-color);\n",
              "    fill: var(--disabled-fill-color);\n",
              "    box-shadow: none;\n",
              "  }\n",
              "\n",
              "  .colab-df-spinner {\n",
              "    border: 2px solid var(--fill-color);\n",
              "    border-color: transparent;\n",
              "    border-bottom-color: var(--fill-color);\n",
              "    animation:\n",
              "      spin 1s steps(1) infinite;\n",
              "  }\n",
              "\n",
              "  @keyframes spin {\n",
              "    0% {\n",
              "      border-color: transparent;\n",
              "      border-bottom-color: var(--fill-color);\n",
              "      border-left-color: var(--fill-color);\n",
              "    }\n",
              "    20% {\n",
              "      border-color: transparent;\n",
              "      border-left-color: var(--fill-color);\n",
              "      border-top-color: var(--fill-color);\n",
              "    }\n",
              "    30% {\n",
              "      border-color: transparent;\n",
              "      border-left-color: var(--fill-color);\n",
              "      border-top-color: var(--fill-color);\n",
              "      border-right-color: var(--fill-color);\n",
              "    }\n",
              "    40% {\n",
              "      border-color: transparent;\n",
              "      border-right-color: var(--fill-color);\n",
              "      border-top-color: var(--fill-color);\n",
              "    }\n",
              "    60% {\n",
              "      border-color: transparent;\n",
              "      border-right-color: var(--fill-color);\n",
              "    }\n",
              "    80% {\n",
              "      border-color: transparent;\n",
              "      border-right-color: var(--fill-color);\n",
              "      border-bottom-color: var(--fill-color);\n",
              "    }\n",
              "    90% {\n",
              "      border-color: transparent;\n",
              "      border-bottom-color: var(--fill-color);\n",
              "    }\n",
              "  }\n",
              "</style>\n",
              "\n",
              "  <script>\n",
              "    async function quickchart(key) {\n",
              "      const quickchartButtonEl =\n",
              "        document.querySelector('#' + key + ' button');\n",
              "      quickchartButtonEl.disabled = true;  // To prevent multiple clicks.\n",
              "      quickchartButtonEl.classList.add('colab-df-spinner');\n",
              "      try {\n",
              "        const charts = await google.colab.kernel.invokeFunction(\n",
              "            'suggestCharts', [key], {});\n",
              "      } catch (error) {\n",
              "        console.error('Error during call to suggestCharts:', error);\n",
              "      }\n",
              "      quickchartButtonEl.classList.remove('colab-df-spinner');\n",
              "      quickchartButtonEl.classList.add('colab-df-quickchart-complete');\n",
              "    }\n",
              "    (() => {\n",
              "      let quickchartButtonEl =\n",
              "        document.querySelector('#df-0fcf453f-1e19-49e1-a960-611b824b4e89 button');\n",
              "      quickchartButtonEl.style.display =\n",
              "        google.colab.kernel.accessAllowed ? 'block' : 'none';\n",
              "    })();\n",
              "  </script>\n",
              "</div>\n",
              "    </div>\n",
              "  </div>\n"
            ]
          },
          "metadata": {},
          "execution_count": 43
        }
      ]
    },
    {
      "cell_type": "code",
      "source": [
        "plt.hist(final_submission['engagement'])"
      ],
      "metadata": {
        "colab": {
          "base_uri": "https://localhost:8080/",
          "height": 517
        },
        "id": "ePeqxjm3RPe_",
        "outputId": "14fa562d-071e-4bc8-8b43-4986e2b26401"
      },
      "id": "ePeqxjm3RPe_",
      "execution_count": null,
      "outputs": [
        {
          "output_type": "execute_result",
          "data": {
            "text/plain": [
              "(array([1.799e+03, 4.000e+01, 5.000e+00, 1.100e+01, 3.000e+00, 9.000e+00,\n",
              "        0.000e+00, 3.000e+00, 0.000e+00, 1.000e+00]),\n",
              " array([     0. ,  19072.6,  38145.2,  57217.8,  76290.4,  95363. ,\n",
              "        114435.6, 133508.2, 152580.8, 171653.4, 190726. ]),\n",
              " <BarContainer object of 10 artists>)"
            ]
          },
          "metadata": {},
          "execution_count": 45
        },
        {
          "output_type": "display_data",
          "data": {
            "text/plain": [
              "<Figure size 640x480 with 1 Axes>"
            ],
            "image/png": "[encoded data removed]"
          },
          "metadata": {}
        }
      ]
    },
    {
      "cell_type": "code",
      "source": [
        "# from google.colab import files\n",
        "# final_submission.to_csv('Essai.csv',header=['Id',\"engagement\"],index=False)\n",
        "# files.download('Essai.csv')"
      ],
      "metadata": {
        "id": "XZbQ2xD2uwAU"
      },
      "id": "XZbQ2xD2uwAU",
      "execution_count": null,
      "outputs": []
    }
  ],
  "metadata": {
    "kernelspec": {
      "display_name": "Python 3",
      "name": "python3"
    },
    "language_info": {
      "codemirror_mode": {
        "name": "ipython",
        "version": 3
      },
      "file_extension": ".py",
      "mimetype": "text/x-python",
      "name": "python",
      "nbconvert_exporter": "python",
      "pygments_lexer": "ipython3",
      "version": "3.12.0"
    },
    "colab": {
      "provenance": [],
      "gpuType": "T4"
    },
    "accelerator": "GPU"
  },
  "nbformat": 4,
  "nbformat_minor": 5
}